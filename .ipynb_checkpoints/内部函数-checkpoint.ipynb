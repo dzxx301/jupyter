{
 "cells": [
  {
   "cell_type": "code",
   "execution_count": 1,
   "metadata": {},
   "outputs": [
    {
     "name": "stdout",
     "output_type": "stream",
     "text": [
      "[6, 3, 5, 9]\n"
     ]
    }
   ],
   "source": [
    "def func():\n",
    "    # 声明变量\n",
    "    n = 100\n",
    "    list1 = [6,3,5,9]\n",
    "    # 声明函数\n",
    "    def inner_func():\n",
    "        # 对list1里的元素进行加5操作\n",
    "        for index,i in enumerate(list1):       #利用枚举取出list1中index和值\n",
    "            # 0 , 6\n",
    "            list1[index] = i+5\n",
    "            \n",
    "        list1.sort()    #list1排序\n",
    "        \n",
    "    print(list1)\n",
    "\n",
    "# 调用func（）\n",
    "func()"
   ]
  },
  {
   "cell_type": "markdown",
   "metadata": {},
   "source": [
    "import pdb      #  python自带调试库,如果进行调试需要加上这两行内容\n",
    "pdb.set_trace()  #  输入调试器"
   ]
  },
  {
   "cell_type": "code",
   "execution_count": 2,
   "metadata": {},
   "outputs": [
    {
     "name": "stdout",
     "output_type": "stream",
     "text": [
      "[8, 10, 11, 14]\n"
     ]
    }
   ],
   "source": [
    "def func():\n",
    "    # 声明变量\n",
    "    n = 100\n",
    "    list1 = [6,3,5,9]\n",
    "    # 声明函数\n",
    "    def inner_func():\n",
    "        # 对list1里的元素进行加5操作\n",
    "        for index,i in enumerate(list1):       # 利用枚举取出list1中index和值\n",
    "            # 0 , 6\n",
    "            list1[index] = i+5\n",
    "            \n",
    "        list1.sort()    # list1排序\n",
    "    \n",
    "    inner_func()         # 调用内部函数\n",
    "    print(list1)\n",
    "\n",
    "# 调用func（）\n",
    "func()"
   ]
  },
  {
   "cell_type": "code",
   "execution_count": 3,
   "metadata": {},
   "outputs": [
    {
     "name": "stdout",
     "output_type": "stream",
     "text": [
      "[103, 105, 106, 109]\n"
     ]
    }
   ],
   "source": [
    "def func():\n",
    "    # 声明变量\n",
    "    n = 100\n",
    "    list1 = [6,3,5,9]\n",
    "    # 声明函数\n",
    "    def inner_func():\n",
    "        # 对list1里的元素进行加5操作\n",
    "        for index,i in enumerate(list1):       # 利用枚举取出list1中index和值\n",
    "            # 0 , 6\n",
    "            list1[index] = i+n               # list1中值加n\n",
    "            \n",
    "        list1.sort()    # list1排序\n",
    "    \n",
    "    inner_func()         # 调用内部函数\n",
    "    print(list1)\n",
    "\n",
    "# 调用func（）\n",
    "func()"
   ]
  },
  {
   "cell_type": "markdown",
   "metadata": {},
   "source": [
    "## 一、内部函数的特点：\n",
    "### 1.在内部函数可以访问外部函数的变量，如list\n",
    "### 2.内部函数可以修改外部函数可变变量的值，如list1加5中的list1"
   ]
  },
  {
   "cell_type": "code",
   "execution_count": 11,
   "metadata": {},
   "outputs": [
    {
     "ename": "UnboundLocalError",
     "evalue": "local variable 'n' referenced before assignment",
     "output_type": "error",
     "traceback": [
      "\u001b[1;31m---------------------------------------------------------------------------\u001b[0m",
      "\u001b[1;31mUnboundLocalError\u001b[0m                         Traceback (most recent call last)",
      "\u001b[1;32m<ipython-input-11-cb6d42695186>\u001b[0m in \u001b[0;36m<module>\u001b[1;34m\u001b[0m\n\u001b[0;32m     19\u001b[0m \u001b[1;33m\u001b[0m\u001b[0m\n\u001b[0;32m     20\u001b[0m \u001b[1;31m# 调用func（）\u001b[0m\u001b[1;33m\u001b[0m\u001b[1;33m\u001b[0m\u001b[1;33m\u001b[0m\u001b[0m\n\u001b[1;32m---> 21\u001b[1;33m \u001b[0mfunc\u001b[0m\u001b[1;33m(\u001b[0m\u001b[1;33m)\u001b[0m\u001b[1;33m\u001b[0m\u001b[1;33m\u001b[0m\u001b[0m\n\u001b[0m",
      "\u001b[1;32m<ipython-input-11-cb6d42695186>\u001b[0m in \u001b[0;36mfunc\u001b[1;34m()\u001b[0m\n\u001b[0;32m     15\u001b[0m         \u001b[0mn\u001b[0m \u001b[1;33m+=\u001b[0m \u001b[1;36m100\u001b[0m\u001b[1;33m\u001b[0m\u001b[1;33m\u001b[0m\u001b[0m\n\u001b[0;32m     16\u001b[0m \u001b[1;33m\u001b[0m\u001b[0m\n\u001b[1;32m---> 17\u001b[1;33m     \u001b[0minner_func\u001b[0m\u001b[1;33m(\u001b[0m\u001b[1;33m)\u001b[0m         \u001b[1;31m# 调用内部函数\u001b[0m\u001b[1;33m\u001b[0m\u001b[1;33m\u001b[0m\u001b[0m\n\u001b[0m\u001b[0;32m     18\u001b[0m     \u001b[0mprint\u001b[0m\u001b[1;33m(\u001b[0m\u001b[0mlist1\u001b[0m\u001b[1;33m)\u001b[0m\u001b[1;33m\u001b[0m\u001b[1;33m\u001b[0m\u001b[0m\n\u001b[0;32m     19\u001b[0m \u001b[1;33m\u001b[0m\u001b[0m\n",
      "\u001b[1;32m<ipython-input-11-cb6d42695186>\u001b[0m in \u001b[0;36minner_func\u001b[1;34m()\u001b[0m\n\u001b[0;32m      8\u001b[0m         \u001b[1;32mfor\u001b[0m \u001b[0mindex\u001b[0m\u001b[1;33m,\u001b[0m\u001b[0mi\u001b[0m \u001b[1;32min\u001b[0m \u001b[0menumerate\u001b[0m\u001b[1;33m(\u001b[0m\u001b[0mlist1\u001b[0m\u001b[1;33m)\u001b[0m\u001b[1;33m:\u001b[0m       \u001b[1;31m# 利用枚举取出list1中index和值\u001b[0m\u001b[1;33m\u001b[0m\u001b[1;33m\u001b[0m\u001b[0m\n\u001b[0;32m      9\u001b[0m             \u001b[1;31m# 0 , 6\u001b[0m\u001b[1;33m\u001b[0m\u001b[1;33m\u001b[0m\u001b[1;33m\u001b[0m\u001b[0m\n\u001b[1;32m---> 10\u001b[1;33m             \u001b[0mlist1\u001b[0m\u001b[1;33m[\u001b[0m\u001b[0mindex\u001b[0m\u001b[1;33m]\u001b[0m \u001b[1;33m=\u001b[0m \u001b[0mi\u001b[0m\u001b[1;33m+\u001b[0m\u001b[0mn\u001b[0m               \u001b[1;31m# list1中值加n\u001b[0m\u001b[1;33m\u001b[0m\u001b[1;33m\u001b[0m\u001b[0m\n\u001b[0m\u001b[0;32m     11\u001b[0m \u001b[1;33m\u001b[0m\u001b[0m\n\u001b[0;32m     12\u001b[0m         \u001b[0mlist1\u001b[0m\u001b[1;33m.\u001b[0m\u001b[0msort\u001b[0m\u001b[1;33m(\u001b[0m\u001b[1;33m)\u001b[0m    \u001b[1;31m# list1排序\u001b[0m\u001b[1;33m\u001b[0m\u001b[1;33m\u001b[0m\u001b[0m\n",
      "\u001b[1;31mUnboundLocalError\u001b[0m: local variable 'n' referenced before assignment"
     ]
    }
   ],
   "source": [
    "def func():\n",
    "    # 声明变量\n",
    "    n = 100\n",
    "    list1 = [6,3,5,9]\n",
    "    # 声明函数\n",
    "    def inner_func():\n",
    "        # 对list1里的元素进行加5操作\n",
    "        for index,i in enumerate(list1):       # 利用枚举取出list1中index和值\n",
    "            # 0 , 6\n",
    "            list1[index] = i+n               # list1中值加n\n",
    "            \n",
    "        list1.sort()    # list1排序\n",
    "        \n",
    "        # 修改n的值     这时会报错\n",
    "        n += 100\n",
    "    \n",
    "    inner_func()         # 调用内部函数\n",
    "    print(list1)\n",
    "\n",
    "# 调用func（）\n",
    "func()"
   ]
  },
  {
   "cell_type": "markdown",
   "metadata": {},
   "source": [
    "### 3.内部函数要修改外部函数不可变量，需要在内部函数加nonlocal 修饰它，如n"
   ]
  },
  {
   "cell_type": "code",
   "execution_count": 6,
   "metadata": {},
   "outputs": [
    {
     "name": "stdout",
     "output_type": "stream",
     "text": [
      "200\n",
      "[103, 105, 106, 109]\n"
     ]
    }
   ],
   "source": [
    "def func():\n",
    "    # 声明变量\n",
    "    n = 100\n",
    "    list1 = [6,3,5,9]\n",
    "    # 声明函数\n",
    "    def inner_func():\n",
    "        nonlocal n\n",
    "        # 对list1里的元素进行加5操作\n",
    "        for index,i in enumerate(list1):       # 利用枚举取出list1中index和值\n",
    "            # 0 , 6\n",
    "            list1[index] = i+n               # list1中值加n\n",
    "            \n",
    "        list1.sort()    # list1排序\n",
    "        \n",
    "        # 修改n的值     这时会报错\n",
    "        n += 100\n",
    "    \n",
    "    inner_func()         # 调用内部函数\n",
    "    print(n)\n",
    "    print(list1)\n",
    "\n",
    "# 调用func（）\n",
    "func()"
   ]
  },
  {
   "cell_type": "markdown",
   "metadata": {},
   "source": [
    "## 二、内部函数的变量调用"
   ]
  },
  {
   "cell_type": "code",
   "execution_count": 7,
   "metadata": {},
   "outputs": [
    {
     "name": "stdout",
     "output_type": "stream",
     "text": [
      "101 105 85\n"
     ]
    }
   ],
   "source": [
    "a = 101  # 定义一个全局变量\n",
    "\n",
    "# 定义函数\n",
    "def func():\n",
    "    b = 105\n",
    "    \n",
    "    def inner_func():\n",
    "        c = 85\n",
    "        \n",
    "        print(a,b,c)\n",
    "        \n",
    "    inner_func()\n",
    "    \n",
    "# 调用函数\n",
    "func()"
   ]
  },
  {
   "cell_type": "markdown",
   "metadata": {},
   "source": [
    "### 1.在内部函数中修改a、b的值\n",
    "      内部函数修改全局不可变变量时，需要在内部函数声明global 变量名 如a\n",
    "      修改外部函数不可变变量时，需要在内部函数中声明nonlocal 变量名 如b"
   ]
  },
  {
   "cell_type": "code",
   "execution_count": 8,
   "metadata": {},
   "outputs": [
    {
     "ename": "UnboundLocalError",
     "evalue": "local variable 'b' referenced before assignment",
     "output_type": "error",
     "traceback": [
      "\u001b[1;31m---------------------------------------------------------------------------\u001b[0m",
      "\u001b[1;31mUnboundLocalError\u001b[0m                         Traceback (most recent call last)",
      "\u001b[1;32m<ipython-input-8-727153d0d401>\u001b[0m in \u001b[0;36m<module>\u001b[1;34m\u001b[0m\n\u001b[0;32m     15\u001b[0m \u001b[1;33m\u001b[0m\u001b[0m\n\u001b[0;32m     16\u001b[0m \u001b[1;31m# 调用函数\u001b[0m\u001b[1;33m\u001b[0m\u001b[1;33m\u001b[0m\u001b[1;33m\u001b[0m\u001b[0m\n\u001b[1;32m---> 17\u001b[1;33m \u001b[0mfunc\u001b[0m\u001b[1;33m(\u001b[0m\u001b[1;33m)\u001b[0m\u001b[1;33m\u001b[0m\u001b[1;33m\u001b[0m\u001b[0m\n\u001b[0m",
      "\u001b[1;32m<ipython-input-8-727153d0d401>\u001b[0m in \u001b[0;36mfunc\u001b[1;34m()\u001b[0m\n\u001b[0;32m     12\u001b[0m         \u001b[0mprint\u001b[0m\u001b[1;33m(\u001b[0m\u001b[0ma\u001b[0m\u001b[1;33m,\u001b[0m\u001b[0mb\u001b[0m\u001b[1;33m,\u001b[0m\u001b[0mc\u001b[0m\u001b[1;33m)\u001b[0m\u001b[1;33m\u001b[0m\u001b[1;33m\u001b[0m\u001b[0m\n\u001b[0;32m     13\u001b[0m \u001b[1;33m\u001b[0m\u001b[0m\n\u001b[1;32m---> 14\u001b[1;33m     \u001b[0minner_func\u001b[0m\u001b[1;33m(\u001b[0m\u001b[1;33m)\u001b[0m\u001b[1;33m\u001b[0m\u001b[1;33m\u001b[0m\u001b[0m\n\u001b[0m\u001b[0;32m     15\u001b[0m \u001b[1;33m\u001b[0m\u001b[0m\n\u001b[0;32m     16\u001b[0m \u001b[1;31m# 调用函数\u001b[0m\u001b[1;33m\u001b[0m\u001b[1;33m\u001b[0m\u001b[1;33m\u001b[0m\u001b[0m\n",
      "\u001b[1;32m<ipython-input-8-727153d0d401>\u001b[0m in \u001b[0;36minner_func\u001b[1;34m()\u001b[0m\n\u001b[0;32m      8\u001b[0m         \u001b[0mc\u001b[0m \u001b[1;33m=\u001b[0m \u001b[1;36m85\u001b[0m\u001b[1;33m\u001b[0m\u001b[1;33m\u001b[0m\u001b[0m\n\u001b[0;32m      9\u001b[0m         \u001b[0mc\u001b[0m \u001b[1;33m+=\u001b[0m \u001b[1;36m15\u001b[0m\u001b[1;33m\u001b[0m\u001b[1;33m\u001b[0m\u001b[0m\n\u001b[1;32m---> 10\u001b[1;33m         \u001b[0mb\u001b[0m \u001b[1;33m+=\u001b[0m \u001b[1;36m5\u001b[0m\u001b[1;33m\u001b[0m\u001b[1;33m\u001b[0m\u001b[0m\n\u001b[0m\u001b[0;32m     11\u001b[0m         \u001b[0ma\u001b[0m \u001b[1;33m+=\u001b[0m \u001b[1;36m19\u001b[0m\u001b[1;33m\u001b[0m\u001b[1;33m\u001b[0m\u001b[0m\n\u001b[0;32m     12\u001b[0m         \u001b[0mprint\u001b[0m\u001b[1;33m(\u001b[0m\u001b[0ma\u001b[0m\u001b[1;33m,\u001b[0m\u001b[0mb\u001b[0m\u001b[1;33m,\u001b[0m\u001b[0mc\u001b[0m\u001b[1;33m)\u001b[0m\u001b[1;33m\u001b[0m\u001b[1;33m\u001b[0m\u001b[0m\n",
      "\u001b[1;31mUnboundLocalError\u001b[0m: local variable 'b' referenced before assignment"
     ]
    }
   ],
   "source": [
    "a = 101  # 定义一个全局变量\n",
    "\n",
    "# 定义函数\n",
    "def func():\n",
    "    b = 105\n",
    "    \n",
    "    def inner_func():\n",
    "        c = 85\n",
    "        c += 15\n",
    "        b += 5\n",
    "        a += 19\n",
    "        print(a,b,c)\n",
    "        \n",
    "    inner_func()\n",
    "    \n",
    "# 调用函数\n",
    "func()"
   ]
  },
  {
   "cell_type": "code",
   "execution_count": 9,
   "metadata": {},
   "outputs": [
    {
     "name": "stdout",
     "output_type": "stream",
     "text": [
      "120 110 100\n"
     ]
    }
   ],
   "source": [
    "a = 101  # 定义一个全局变量\n",
    "\n",
    "# 定义函数\n",
    "def func():\n",
    "    b = 105\n",
    "    \n",
    "    def inner_func():\n",
    "        global a\n",
    "        nonlocal b\n",
    "        c = 85\n",
    "        c += 15\n",
    "        b += 5\n",
    "        a += 19\n",
    "        print(a,b,c)\n",
    "        \n",
    "    inner_func()\n",
    "    \n",
    "# 调用函数\n",
    "func()"
   ]
  },
  {
   "cell_type": "raw",
   "metadata": {},
   "source": [
    "locals（）内置函数可以进行查询当前函数声明的内容，它是用字典形式给出函数的声明。\n",
    "global（）查看全局变量有那些，以字典的形式给出（注意它给出一些系统键值对）"
   ]
  },
  {
   "cell_type": "code",
   "execution_count": 10,
   "metadata": {},
   "outputs": [
    {
     "name": "stdout",
     "output_type": "stream",
     "text": [
      "120 110 100\n",
      "{'inner_func': <function func.<locals>.inner_func at 0x00000169BB2643A8>, 'b': 110}\n"
     ]
    }
   ],
   "source": [
    "a = 101  # 定义一个全局变量\n",
    "\n",
    "# 定义函数\n",
    "def func():\n",
    "    b = 105\n",
    "    \n",
    "    def inner_func():\n",
    "        global a\n",
    "        nonlocal b\n",
    "        c = 85\n",
    "        c += 15\n",
    "        b += 5\n",
    "        a += 19\n",
    "        print(a,b,c)\n",
    "        \n",
    "    inner_func()\n",
    "    print(locals())\n",
    "# 调用函数\n",
    "func()"
   ]
  },
  {
   "cell_type": "markdown",
   "metadata": {},
   "source": [
    "## 三、闭包\n",
    "###  1.条件：闭包\n",
    "    1.外部函数定义一个内部函数\n",
    "    2.外部函数有返回值\n",
    "    3.函数返回值是内部函数名\n",
    "    4.内部函数引用了外部函数的变量"
   ]
  },
  {
   "cell_type": "raw",
   "metadata": {},
   "source": [
    " 格式：\n",
    "     def 外部函数（）：\n",
    "       ...\n",
    "       def 内部函数（）：\n",
    "       ...\n",
    "       return 内部函数名"
   ]
  },
  {
   "cell_type": "code",
   "execution_count": 18,
   "metadata": {},
   "outputs": [
    {
     "name": "stdout",
     "output_type": "stream",
     "text": [
      "{'inner_func': <function func.<locals>.inner_func at 0x00000169BB16F438>, 'a': 100}\n"
     ]
    },
    {
     "data": {
      "text/plain": [
       "(100, <function __main__.func.<locals>.inner_func()>)"
      ]
     },
     "execution_count": 18,
     "metadata": {},
     "output_type": "execute_result"
    }
   ],
   "source": [
    "def func():         # 在函数外，打印a和b的值\n",
    "    a = 100\n",
    "    \n",
    "    def inner_func():     #  注意这里a和inner func是同一级别的\n",
    "        b = 99 \n",
    "        print(a,b)\n",
    "    \n",
    "    print(locals())\n",
    "    return a,inner_func   # 内部函数返回值如果是函数，只能用函数名，不能加括号\n",
    "                            #  加括号就变成函数调用\n",
    "# 函数的调用\n",
    "x,y = func()\n",
    "x,y"
   ]
  },
  {
   "cell_type": "code",
   "execution_count": 17,
   "metadata": {},
   "outputs": [
    {
     "name": "stdout",
     "output_type": "stream",
     "text": [
      "100 99\n"
     ]
    }
   ],
   "source": [
    "y()       # 这里注意要打印a b的值用于y（），这个就是闭包的概念"
   ]
  },
  {
   "cell_type": "markdown",
   "metadata": {},
   "source": [
    "### 举例说明"
   ]
  },
  {
   "cell_type": "code",
   "execution_count": 19,
   "metadata": {},
   "outputs": [],
   "source": [
    "def func(a,b):\n",
    "    c = 10\n",
    "    \n",
    "    def inner_func():\n",
    "        s = a+b+c\n",
    "        print('sum:',s)\n",
    "        \n",
    "    return inner_func   # 返回函数名\n",
    "\n",
    "#调用func  变量接收返回值\n",
    "ifunc = func(6,9)     #  ifunc = inner_func"
   ]
  },
  {
   "cell_type": "code",
   "execution_count": 20,
   "metadata": {},
   "outputs": [
    {
     "name": "stdout",
     "output_type": "stream",
     "text": [
      "sum: 25\n"
     ]
    }
   ],
   "source": [
    "def func(a,b):\n",
    "    c = 10\n",
    "    \n",
    "    def inner_func():\n",
    "        s = a+b+c\n",
    "        print('sum:',s)\n",
    "        \n",
    "    return inner_func   # 返回函数名\n",
    "\n",
    "#调用func  变量接收返回值\n",
    "ifunc = func(6,9)     #  ifunc = inner_func\n",
    "ifunc()"
   ]
  },
  {
   "cell_type": "markdown",
   "metadata": {},
   "source": [
    "### 2.闭包的应用\n",
    "####   1）能够保存返回闭包时的外层函数变量值，如下面ifunc1不会影响ifunc值"
   ]
  },
  {
   "cell_type": "code",
   "execution_count": 21,
   "metadata": {},
   "outputs": [
    {
     "name": "stdout",
     "output_type": "stream",
     "text": [
      "sum: 20\n",
      "sum: 25\n"
     ]
    }
   ],
   "source": [
    "def func(a,b):\n",
    "    c = 10\n",
    "    \n",
    "    def inner_func():\n",
    "        s = a+b+c\n",
    "        print('sum:',s)\n",
    "        \n",
    "    return inner_func   # 返回函数名\n",
    "\n",
    "#调用func  变量接收返回值\n",
    "ifunc = func(6,9)     #  ifunc = inner_func\n",
    "ifunc1 = func(2,8)     #再次调用\n",
    "ifunc1()\n",
    "ifunc()"
   ]
  },
  {
   "cell_type": "code",
   "execution_count": 23,
   "metadata": {},
   "outputs": [
    {
     "name": "stdout",
     "output_type": "stream",
     "text": [
      "<function func.<locals>.inner_func at 0x00000169BB16F798>\n",
      "<function func.<locals>.inner_func at 0x00000169BB16F168>\n"
     ]
    }
   ],
   "source": [
    "def func(a,b):\n",
    "    c = 10\n",
    "    \n",
    "    def inner_func():\n",
    "        s = a+b+c\n",
    "        print('sum:',s)\n",
    "        \n",
    "    return inner_func   # 返回函数名\n",
    "\n",
    "#调用func  变量接收返回值\n",
    "ifunc = func(6,9)     #  ifunc = inner_func\n",
    "ifunc1 = func(2,8)     #再次调用\n",
    "print(ifunc1)\n",
    "print(ifunc)         #分别加载调用的值"
   ]
  },
  {
   "cell_type": "markdown",
   "metadata": {},
   "source": [
    "### 3.闭包的计算器"
   ]
  },
  {
   "cell_type": "code",
   "execution_count": 24,
   "metadata": {},
   "outputs": [
    {
     "name": "stdout",
     "output_type": "stream",
     "text": [
      "当前时第1次访问\n",
      "当前时第2次访问\n",
      "当前时第3次访问\n"
     ]
    }
   ],
   "source": [
    "def generate_count():\n",
    "    container = [0]\n",
    "    \n",
    "    def add_one():\n",
    "        container[0] = container[0]+1\n",
    "        print(\"当前时第{}次访问\".format(container[0]))\n",
    "        \n",
    "    return add_one\n",
    "\n",
    "# 内部函数是一个计数器\n",
    "counter = generate_count()\n",
    "\n",
    "counter()\n",
    "counter()\n",
    "counter()"
   ]
  },
  {
   "cell_type": "markdown",
   "metadata": {},
   "source": [
    "### 4.闭包的同级访问"
   ]
  },
  {
   "cell_type": "code",
   "execution_count": 25,
   "metadata": {},
   "outputs": [
    {
     "data": {
      "text/plain": [
       "<function __main__.func.<locals>.inner_func2()>"
      ]
     },
     "execution_count": 25,
     "metadata": {},
     "output_type": "execute_result"
    }
   ],
   "source": [
    "def func():\n",
    "    a = 100\n",
    "    \n",
    "    def inner_func1():\n",
    "        b =90\n",
    "        s = a+b\n",
    "        print(s)\n",
    "        \n",
    "    def inner_func2():\n",
    "        inner_func1()             # 同级调用\n",
    "        print('----------> innner_func2')\n",
    "    \n",
    "    return inner_func2\n",
    "\n",
    "#调用func\n",
    "f = func()\n",
    "f"
   ]
  },
  {
   "cell_type": "code",
   "execution_count": 26,
   "metadata": {},
   "outputs": [
    {
     "name": "stdout",
     "output_type": "stream",
     "text": [
      "190\n",
      "----------> innner_func2\n"
     ]
    }
   ],
   "source": [
    "def func():\n",
    "    a = 100\n",
    "    \n",
    "    def inner_func1():    # 闭包引用同级变量和函数\n",
    "        b =90\n",
    "        s = a+b\n",
    "        print(s)\n",
    "        \n",
    "    def inner_func2():\n",
    "        inner_func1()             # 同级调用\n",
    "        print('----------> innner_func2')\n",
    "    \n",
    "    return inner_func2\n",
    "\n",
    "#调用func\n",
    "f = func()\n",
    "f()                 # 相当于f() = inner_func2()"
   ]
  },
  {
   "cell_type": "code",
   "execution_count": 29,
   "metadata": {},
   "outputs": [
    {
     "name": "stdout",
     "output_type": "stream",
     "text": [
      "190\n",
      "----------> innner_func2 100\n"
     ]
    },
    {
     "data": {
      "text/plain": [
       "'hello'"
      ]
     },
     "execution_count": 29,
     "metadata": {},
     "output_type": "execute_result"
    }
   ],
   "source": [
    "def func():\n",
    "    a = 100\n",
    "    \n",
    "    def inner_func1():    # 闭包引用同级变量和函数\n",
    "        b =90\n",
    "        s = a+b\n",
    "        print(s)\n",
    "        \n",
    "    def inner_func2():\n",
    "        inner_func1()             # 同级调用\n",
    "        print('----------> innner_func2',a)\n",
    "        \n",
    "        return 'hello'\n",
    "    \n",
    "    return inner_func2\n",
    "\n",
    "#调用func\n",
    "f = func()\n",
    "f()\n",
    "#ff = f()\n",
    "#ff"
   ]
  },
  {
   "cell_type": "markdown",
   "metadata": {},
   "source": [
    "## 四、装饰器\n",
    "### 特点：\n",
    "#### 1.函数A是作为参数出现的（函数B就接收函数A作为参数）\n",
    "#### 2.要有闭包的特点"
   ]
  },
  {
   "cell_type": "code",
   "execution_count": 30,
   "metadata": {},
   "outputs": [
    {
     "data": {
      "text/plain": [
       "<function __main__.test()>"
      ]
     },
     "execution_count": 30,
     "metadata": {},
     "output_type": "execute_result"
    }
   ],
   "source": [
    "def test():\n",
    "    print('-----test-------')\n",
    "    \n",
    "t = test\n",
    "t"
   ]
  },
  {
   "cell_type": "code",
   "execution_count": 31,
   "metadata": {},
   "outputs": [
    {
     "name": "stdout",
     "output_type": "stream",
     "text": [
      "-----test-------\n"
     ]
    }
   ],
   "source": [
    "def test():\n",
    "    print('-----test-------')\n",
    "    \n",
    "t = test\n",
    "t()           #相当于test（）"
   ]
  },
  {
   "cell_type": "code",
   "execution_count": 32,
   "metadata": {},
   "outputs": [
    {
     "name": "stdout",
     "output_type": "stream",
     "text": [
      "<function test at 0x00000169BB366558>\n",
      "-----test-------\n",
      "-------->func\n"
     ]
    }
   ],
   "source": [
    "def func(f):      # f = test\n",
    "    print(f)      # <function test at 0x00000169BB366558>\n",
    "    f()           # --------test----\n",
    "    print('-------->func')  # ---->func\n",
    "    \n",
    "# 调用函数\n",
    "func(test)"
   ]
  },
  {
   "cell_type": "code",
   "execution_count": 34,
   "metadata": {},
   "outputs": [
    {
     "name": "stdout",
     "output_type": "stream",
     "text": [
      "我是毛坯房....\n",
      "----->刷漆\n",
      "----->铺地板\n",
      "----->装门和洁具\n"
     ]
    }
   ],
   "source": [
    "# 定义一个装饰器\n",
    "def decorate(func):\n",
    "    a = 100\n",
    "    \n",
    "    def wrapper():\n",
    "        func()\n",
    "        print('----->刷漆')\n",
    "        print('----->铺地板')\n",
    "        print('----->装门和洁具')\n",
    "       \n",
    "    return wrapper\n",
    "\n",
    "# 使用装饰器@\n",
    "@decorate\n",
    "def house():\n",
    "    print('我是毛坯房....')\n",
    "\n",
    "# 调用函数\n",
    "house()"
   ]
  },
  {
   "cell_type": "raw",
   "metadata": {},
   "source": [
    "1、修改原函数\n",
    "2、重新定义函数，包含原函数再加上新的代码\n",
    "3、利用装饰器\n",
    "做好是用3。1.修改原函数导致所有调用都修改了；2.重新定义函数，在代码中修改原来函数名"
   ]
  },
  {
   "cell_type": "code",
   "execution_count": null,
   "metadata": {},
   "outputs": [],
   "source": []
  }
 ],
 "metadata": {
  "kernelspec": {
   "display_name": "Python 3",
   "language": "python",
   "name": "python3"
  },
  "language_info": {
   "codemirror_mode": {
    "name": "ipython",
    "version": 3
   },
   "file_extension": ".py",
   "mimetype": "text/x-python",
   "name": "python",
   "nbconvert_exporter": "python",
   "pygments_lexer": "ipython3",
   "version": "3.7.7"
  }
 },
 "nbformat": 4,
 "nbformat_minor": 4
}
