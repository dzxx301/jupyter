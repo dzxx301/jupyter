{
 "cells": [
  {
   "cell_type": "raw",
   "metadata": {},
   "source": [
    "1、普通函数   def func（）：pass\n",
    "2、匿名函数   lambda 参数：返回结果\n",
    "3、递归函数   普通函数的表现形式。函数自己调用自己\n",
    "\n",
    "特点：\n",
    "   1.递归函数必须设定终点 \n",
    "   2.递归函数都有一个入口\n",
    "   3."
   ]
  },
  {
   "cell_type": "code",
   "execution_count": 1,
   "metadata": {},
   "outputs": [
    {
     "name": "stdout",
     "output_type": "stream",
     "text": [
      "55\n"
     ]
    }
   ],
   "source": [
    "def sum(n):\n",
    "    if n==0:       # 终止条件\n",
    "        return 0\n",
    "    else:\n",
    "        return n+sum(n-1)\n",
    "\n",
    "result = sum(10)\n",
    "print(result)"
   ]
  },
  {
   "cell_type": "code",
   "execution_count": null,
   "metadata": {},
   "outputs": [],
   "source": []
  }
 ],
 "metadata": {
  "kernelspec": {
   "display_name": "Python 3",
   "language": "python",
   "name": "python3"
  },
  "language_info": {
   "codemirror_mode": {
    "name": "ipython",
    "version": 3
   },
   "file_extension": ".py",
   "mimetype": "text/x-python",
   "name": "python",
   "nbconvert_exporter": "python",
   "pygments_lexer": "ipython3",
   "version": "3.8.3"
  }
 },
 "nbformat": 4,
 "nbformat_minor": 4
}
