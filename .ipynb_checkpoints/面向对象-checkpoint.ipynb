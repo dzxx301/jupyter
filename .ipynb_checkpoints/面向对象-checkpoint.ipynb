{
 "cells": [
  {
   "cell_type": "markdown",
   "metadata": {},
   "source": [
    "###  类的方法：动作\n",
    "#### 方法种类：普通方法、类方法、静态方法、魔术方法"
   ]
  },
  {
   "cell_type": "raw",
   "metadata": {},
   "source": [
    "类：所有对象共有的特性，属性"
   ]
  },
  {
   "cell_type": "code",
   "execution_count": 2,
   "metadata": {},
   "outputs": [
    {
     "name": "stdout",
     "output_type": "stream",
     "text": [
      "<__main__.Phone object at 0x00000252080D33D0> ----1-----\n",
      "xiaomi\n",
      "self------> <__main__.Phone object at 0x00000252080D33D0>\n",
      "正在打电话....\n"
     ]
    }
   ],
   "source": [
    "class Phone:\n",
    "    brand = 'xiaomi'\n",
    "    price = 4599\n",
    "    type  = 'xiaomi10'\n",
    "    \n",
    "    # Phone 类里面的方法：call\n",
    "    def call(self):\n",
    "        print('self------>',self)\n",
    "        print('正在打电话....')\n",
    "\n",
    "phone1 = Phone()\n",
    "print(phone1,'----1-----')\n",
    "print(phone1.brand)\n",
    "phone1.call()"
   ]
  },
  {
   "cell_type": "code",
   "execution_count": 4,
   "metadata": {},
   "outputs": [
    {
     "name": "stdout",
     "output_type": "stream",
     "text": [
      "<__main__.Phone object at 0x0000025207CCCE20> ----1-----\n",
      "self------> <__main__.Phone object at 0x0000025207CCCE20>\n",
      "正在打电话....\n",
      "******************************\n",
      "<__main__.Phone object at 0x0000025207CCCAF0> ----2-----\n",
      "self------> <__main__.Phone object at 0x0000025207CCCAF0>\n",
      "正在打电话....\n"
     ]
    }
   ],
   "source": [
    "class Phone:\n",
    "    brand = 'xiaomi'\n",
    "    price = 4599\n",
    "    type  = 'xiaomi10'\n",
    "    \n",
    "    # Phone 类里面的方法：call\n",
    "    def call(self):\n",
    "        print('self------>',self)\n",
    "        print('正在打电话....')\n",
    "\n",
    "phone1 = Phone()\n",
    "print(phone1,'----1-----')\n",
    "phone1.call()\n",
    "\n",
    "print('*' *30)\n",
    "phone2 = Phone()\n",
    "print(phone2,'----2-----')\n",
    "phone2.call()"
   ]
  },
  {
   "cell_type": "code",
   "execution_count": 5,
   "metadata": {},
   "outputs": [
    {
     "name": "stdout",
     "output_type": "stream",
     "text": [
      "<__main__.Phone object at 0x0000025207CCC9A0> ----1-----\n",
      "self------> <__main__.Phone object at 0x0000025207CCC9A0>\n",
      "正在打电话....\n",
      "留言： phone1的note\n",
      "******************************\n",
      "<__main__.Phone object at 0x0000025207E3CB20> ----2-----\n",
      "self------> <__main__.Phone object at 0x0000025207E3CB20>\n",
      "正在打电话....\n",
      "留言： phone2222的note\n"
     ]
    }
   ],
   "source": [
    "class Phone:\n",
    "    brand = 'xiaomi'\n",
    "    price = 4599\n",
    "    type  = 'xiaomi10'\n",
    "    \n",
    "    # Phone 类里面的方法：call\n",
    "    def call(self):\n",
    "        print('self------>',self)\n",
    "        print('正在打电话....')\n",
    "        print('留言：',self.note)\n",
    "\n",
    "phone1 = Phone()\n",
    "phone1.note = 'phone1的note'\n",
    "print(phone1,'----1-----')\n",
    "phone1.call()                   # call(phone1)  --->self.note即phone1.note\n",
    "\n",
    "print('*' *30)\n",
    "phone2 = Phone()\n",
    "phone2.note = 'phone2222的note'\n",
    "print(phone2,'----2-----')\n",
    "phone2.call()                 # call(phone2)  --->self.note即phone2.note"
   ]
  },
  {
   "cell_type": "code",
   "execution_count": 1,
   "metadata": {},
   "outputs": [
    {
     "name": "stdout",
     "output_type": "stream",
     "text": [
      "<__main__.Phone object at 0x00000218B19A8370> ----1-----\n",
      "self------> <__main__.Phone object at 0x00000218B19A8370>\n",
      "正在访问通信录.....\n",
      "dict_items([('15910210001', 'jack')])\n",
      "dict_items([('13810110000', 'mack')])\n",
      "正在打电话....\n",
      "留言： phone1的note\n",
      "******************************\n",
      "<__main__.Phone object at 0x00000218B1BED4C0> ----2-----\n",
      "self------> <__main__.Phone object at 0x00000218B1BED4C0>\n",
      "正在访问通信录.....\n"
     ]
    },
    {
     "ename": "AttributeError",
     "evalue": "'Phone' object has no attribute 'address_book'",
     "output_type": "error",
     "traceback": [
      "\u001b[1;31m---------------------------------------------------------------------------\u001b[0m",
      "\u001b[1;31mAttributeError\u001b[0m                            Traceback (most recent call last)",
      "\u001b[1;32m<ipython-input-1-dc163de32ee8>\u001b[0m in \u001b[0;36m<module>\u001b[1;34m\u001b[0m\n\u001b[0;32m     23\u001b[0m \u001b[0mphone2\u001b[0m\u001b[1;33m.\u001b[0m\u001b[0mnote\u001b[0m \u001b[1;33m=\u001b[0m \u001b[1;34m'phone2222的note'\u001b[0m\u001b[1;33m\u001b[0m\u001b[1;33m\u001b[0m\u001b[0m\n\u001b[0;32m     24\u001b[0m \u001b[0mprint\u001b[0m\u001b[1;33m(\u001b[0m\u001b[0mphone2\u001b[0m\u001b[1;33m,\u001b[0m\u001b[1;34m'----2-----'\u001b[0m\u001b[1;33m)\u001b[0m\u001b[1;33m\u001b[0m\u001b[1;33m\u001b[0m\u001b[0m\n\u001b[1;32m---> 25\u001b[1;33m \u001b[0mphone2\u001b[0m\u001b[1;33m.\u001b[0m\u001b[0mcall\u001b[0m\u001b[1;33m(\u001b[0m\u001b[1;33m)\u001b[0m\u001b[1;33m\u001b[0m\u001b[1;33m\u001b[0m\u001b[0m\n\u001b[0m",
      "\u001b[1;32m<ipython-input-1-dc163de32ee8>\u001b[0m in \u001b[0;36mcall\u001b[1;34m(self)\u001b[0m\n\u001b[0;32m      8\u001b[0m         \u001b[0mprint\u001b[0m\u001b[1;33m(\u001b[0m\u001b[1;34m'self------>'\u001b[0m\u001b[1;33m,\u001b[0m\u001b[0mself\u001b[0m\u001b[1;33m)\u001b[0m\u001b[1;33m\u001b[0m\u001b[1;33m\u001b[0m\u001b[0m\n\u001b[0;32m      9\u001b[0m         \u001b[0mprint\u001b[0m\u001b[1;33m(\u001b[0m\u001b[1;34m'正在访问通信录.....'\u001b[0m\u001b[1;33m)\u001b[0m\u001b[1;33m\u001b[0m\u001b[1;33m\u001b[0m\u001b[0m\n\u001b[1;32m---> 10\u001b[1;33m         \u001b[1;32mfor\u001b[0m \u001b[0mperson\u001b[0m \u001b[1;32min\u001b[0m \u001b[0mself\u001b[0m\u001b[1;33m.\u001b[0m\u001b[0maddress_book\u001b[0m\u001b[1;33m:\u001b[0m   \u001b[1;31m# [{},{}] 遍历address-book中值\u001b[0m\u001b[1;33m\u001b[0m\u001b[1;33m\u001b[0m\u001b[0m\n\u001b[0m\u001b[0;32m     11\u001b[0m             \u001b[0mprint\u001b[0m\u001b[1;33m(\u001b[0m\u001b[0mperson\u001b[0m\u001b[1;33m.\u001b[0m\u001b[0mitems\u001b[0m\u001b[1;33m(\u001b[0m\u001b[1;33m)\u001b[0m\u001b[1;33m)\u001b[0m          \u001b[1;31m# 打印字典中键和值\u001b[0m\u001b[1;33m\u001b[0m\u001b[1;33m\u001b[0m\u001b[0m\n\u001b[0;32m     12\u001b[0m         \u001b[0mprint\u001b[0m\u001b[1;33m(\u001b[0m\u001b[1;34m'正在打电话....'\u001b[0m\u001b[1;33m)\u001b[0m\u001b[1;33m\u001b[0m\u001b[1;33m\u001b[0m\u001b[0m\n",
      "\u001b[1;31mAttributeError\u001b[0m: 'Phone' object has no attribute 'address_book'"
     ]
    }
   ],
   "source": [
    "class Phone:\n",
    "    brand = 'xiaomi'\n",
    "    price = 4599\n",
    "    type  = 'xiaomi10'\n",
    "    \n",
    "    # Phone 类里面的方法：call\n",
    "    def call(self):\n",
    "        print('self------>',self)\n",
    "        print('正在访问通信录.....')\n",
    "        for person in self.address_book:   # [{},{}] 遍历address-book中值\n",
    "            print(person.items())          # 打印字典中键和值\n",
    "        print('正在打电话....')\n",
    "        print('留言：',self.note)\n",
    "\n",
    "phone1 = Phone()\n",
    "phone1.note = 'phone1的note'\n",
    "phone1.address_book = [{'15910210001':'jack'},{'13810110000':'mack'}]\n",
    "print(phone1,'----1-----')\n",
    "phone1.call()                   # call(phone1)  --->self.note即phone1.note\n",
    "\n",
    "print('*' *30)\n",
    "phone2 = Phone()\n",
    "phone2.note = 'phone2222的note'\n",
    "print(phone2,'----2-----')\n",
    "phone2.call()    "
   ]
  },
  {
   "cell_type": "markdown",
   "metadata": {},
   "source": [
    "### 2.魔术方法\n",
    "##### 魔术方法1、__名字__()  安装系统要求，它自动执行"
   ]
  },
  {
   "cell_type": "code",
   "execution_count": 4,
   "metadata": {},
   "outputs": [
    {
     "name": "stdout",
     "output_type": "stream",
     "text": [
      "---------init\n",
      "<__main__.Phone object at 0x000002140B25E730> ----1-----\n",
      "huawei xiaomi10 2599\n",
      "self------> <__main__.Phone object at 0x000002140B25E730>\n",
      "正在打电话....\n",
      "******************************\n",
      "---------init\n",
      "<__main__.Phone object at 0x000002140B254E20> ----2-----\n",
      "self------> <__main__.Phone object at 0x000002140B254E20>\n",
      "正在打电话....\n"
     ]
    }
   ],
   "source": [
    "class Phone:\n",
    "    def __init__(self):  # 初始化  魔术方法\n",
    "        self.brand = 'xiaomi'            \n",
    "        self.price = 4599\n",
    "        self.type  = 'xiaomi10'\n",
    "        print('---------init')\n",
    "    \n",
    "    # Phone 类里面的方法：call\n",
    "    def call(self):\n",
    "        print('self------>',self)\n",
    "        print('正在打电话....')\n",
    "        \n",
    "phone1 = Phone()\n",
    "phone1.price = 2599\n",
    "phone1.brand = 'huawei'\n",
    "print(phone1,'----1-----')\n",
    "print(phone1.brand,phone1.type,phone1.price)\n",
    "phone1.call()                   # call(phone1)  --->self.note即phone1.note\n",
    "\n",
    "print('*' *30)\n",
    "phone2 = Phone()\n",
    "phone2.type = 'miplus10' \n",
    "print(phone2,'----2-----')\n",
    "phone2.call()    "
   ]
  },
  {
   "cell_type": "code",
   "execution_count": 6,
   "metadata": {},
   "outputs": [
    {
     "name": "stdout",
     "output_type": "stream",
     "text": [
      "李四正在吃早饭！\n",
      "李四,今年20岁，正在跑步\n",
      "wangwu,今年27岁，正在跑步\n"
     ]
    }
   ],
   "source": [
    "class Person:\n",
    "    name = '张三'\n",
    "    \n",
    "    def __init__(self,name,age):  # 魔术方法\n",
    "        self.name = name\n",
    "        self.age  = age\n",
    "        \n",
    "    def eat(self):\n",
    "        print('{}正在吃早饭！'.format(self.name))\n",
    "        \n",
    "    def run(self):\n",
    "        print('{},今年{}岁，正在跑步'.format(self.name,self.age))\n",
    "        \n",
    "p = Person('lily',20)\n",
    "p.name = '李四'\n",
    "p.eat()\n",
    "p.run()\n",
    "\n",
    "p1 = Person('wangwu',27)\n",
    "p1.run()"
   ]
  },
  {
   "cell_type": "code",
   "execution_count": 7,
   "metadata": {},
   "outputs": [
    {
     "name": "stdout",
     "output_type": "stream",
     "text": [
      "李四正在吃早饭！\n",
      "李四,今年20岁，正在跑步\n",
      "wangwu正在吃晚饭！\n",
      "wangwu,今年27岁，正在跑步\n"
     ]
    }
   ],
   "source": [
    "class Person:\n",
    "    name = '张三'\n",
    "    \n",
    "    def __init__(self,name,age):  # 魔术方法\n",
    "        self.name = name\n",
    "        self.age  = age\n",
    "        \n",
    "    def eat(self,food):\n",
    "        print('{}正在吃{}！'.format(self.name,food))\n",
    "        \n",
    "    def run(self):\n",
    "        print('{},今年{}岁，正在跑步'.format(self.name,self.age))\n",
    "        \n",
    "p = Person('lily',20)\n",
    "p.name = '李四'\n",
    "p.eat('早饭')\n",
    "p.run()\n",
    "\n",
    "p1 = Person('wangwu',27)\n",
    "p1.eat('晚饭')\n",
    "p1.run()"
   ]
  },
  {
   "cell_type": "markdown",
   "metadata": {},
   "source": [
    "### 3.猫类"
   ]
  },
  {
   "cell_type": "code",
   "execution_count": 10,
   "metadata": {},
   "outputs": [
    {
     "name": "stdout",
     "output_type": "stream",
     "text": [
      "花花,抓了一只2kg的，黑色颜色的老鼠！\n",
      "起来抓老鼠！\n",
      "花花喜欢吃小金鱼\n"
     ]
    }
   ],
   "source": [
    "class Cat:\n",
    "    type = '猫'   # 类属性\n",
    "    \n",
    "    def __init__(self,name,age,color):   # 通过init初始化特征\n",
    "        self.name = name\n",
    "        self.age  = age\n",
    "        self.color= color\n",
    "        \n",
    "   # 动作，方法     \n",
    "    def eat(self,food):\n",
    "        print('{}喜欢吃{}'.format(self.name,food))\n",
    "        \n",
    "    def catch_mouse(self,color,weight):\n",
    "        print('{},抓了一只{}kg的，{}颜色的老鼠！'.format(self.name,weight,color))\n",
    "        \n",
    "    def sleep(self,hour):\n",
    "        if hour < 5:\n",
    "            print('继续睡觉')\n",
    "        else:\n",
    "            print('起来抓老鼠！')\n",
    "\n",
    "#  创建对象\n",
    "cat1 = Cat('花花',2,'灰色')\n",
    "\n",
    "# 通过对象调用方法\n",
    "cat1.catch_mouse('黑色',2)\n",
    "cat1.sleep(8)\n",
    "cat1.eat('小金鱼')"
   ]
  },
  {
   "cell_type": "markdown",
   "metadata": {},
   "source": [
    "### 4.类方法"
   ]
  },
  {
   "cell_type": "code",
   "execution_count": 1,
   "metadata": {},
   "outputs": [
    {
     "name": "stdout",
     "output_type": "stream",
     "text": [
      "大黄在院子里跑来跑去！\n"
     ]
    }
   ],
   "source": [
    "class Dog:\n",
    "    \n",
    "    def __init__(self,name):   # 通过init初始化特征\n",
    "        self.name = name\n",
    "    \n",
    "     # 动作，方法  \n",
    "    def run(self):\n",
    "        print('{}在院子里跑来跑去！'.format(self.name))\n",
    "     \n",
    "    @classmethod\n",
    "    def test(cls):    #cls  class类\n",
    "        print(cls)\n",
    "        print(cls.name)\n",
    "        \n",
    "\n",
    "#  创建对象\n",
    "d = Dog('大黄')\n",
    "\n",
    "# 通过对象调用方法\n",
    "d.run()  "
   ]
  },
  {
   "cell_type": "code",
   "execution_count": 2,
   "metadata": {},
   "outputs": [
    {
     "name": "stdout",
     "output_type": "stream",
     "text": [
      "大黄在院子里跑来跑去！\n",
      "<class '__main__.Dog'>\n"
     ]
    },
    {
     "ename": "AttributeError",
     "evalue": "type object 'Dog' has no attribute 'name'",
     "output_type": "error",
     "traceback": [
      "\u001b[1;31m---------------------------------------------------------------------------\u001b[0m",
      "\u001b[1;31mAttributeError\u001b[0m                            Traceback (most recent call last)",
      "\u001b[1;32m<ipython-input-2-94bfbc0d436e>\u001b[0m in \u001b[0;36m<module>\u001b[1;34m\u001b[0m\n\u001b[0;32m     19\u001b[0m \u001b[1;31m# 通过对象调用方法\u001b[0m\u001b[1;33m\u001b[0m\u001b[1;33m\u001b[0m\u001b[1;33m\u001b[0m\u001b[0m\n\u001b[0;32m     20\u001b[0m \u001b[0md\u001b[0m\u001b[1;33m.\u001b[0m\u001b[0mrun\u001b[0m\u001b[1;33m(\u001b[0m\u001b[1;33m)\u001b[0m\u001b[1;33m\u001b[0m\u001b[1;33m\u001b[0m\u001b[0m\n\u001b[1;32m---> 21\u001b[1;33m \u001b[0md\u001b[0m\u001b[1;33m.\u001b[0m\u001b[0mtest\u001b[0m\u001b[1;33m(\u001b[0m\u001b[1;33m)\u001b[0m\u001b[1;33m\u001b[0m\u001b[1;33m\u001b[0m\u001b[0m\n\u001b[0m",
      "\u001b[1;32m<ipython-input-2-94bfbc0d436e>\u001b[0m in \u001b[0;36mtest\u001b[1;34m(cls)\u001b[0m\n\u001b[0;32m     11\u001b[0m     \u001b[1;32mdef\u001b[0m \u001b[0mtest\u001b[0m\u001b[1;33m(\u001b[0m\u001b[0mcls\u001b[0m\u001b[1;33m)\u001b[0m\u001b[1;33m:\u001b[0m    \u001b[1;31m#cls  class类\u001b[0m\u001b[1;33m\u001b[0m\u001b[1;33m\u001b[0m\u001b[0m\n\u001b[0;32m     12\u001b[0m         \u001b[0mprint\u001b[0m\u001b[1;33m(\u001b[0m\u001b[0mcls\u001b[0m\u001b[1;33m)\u001b[0m\u001b[1;33m\u001b[0m\u001b[1;33m\u001b[0m\u001b[0m\n\u001b[1;32m---> 13\u001b[1;33m         \u001b[0mprint\u001b[0m\u001b[1;33m(\u001b[0m\u001b[0mcls\u001b[0m\u001b[1;33m.\u001b[0m\u001b[0mname\u001b[0m\u001b[1;33m)\u001b[0m\u001b[1;33m\u001b[0m\u001b[1;33m\u001b[0m\u001b[0m\n\u001b[0m\u001b[0;32m     14\u001b[0m \u001b[1;33m\u001b[0m\u001b[0m\n\u001b[0;32m     15\u001b[0m \u001b[1;33m\u001b[0m\u001b[0m\n",
      "\u001b[1;31mAttributeError\u001b[0m: type object 'Dog' has no attribute 'name'"
     ]
    }
   ],
   "source": [
    "class Dog:\n",
    "    \n",
    "    def __init__(self,name):   # 通过init初始化特征\n",
    "        self.name = name\n",
    "    \n",
    "     # 动作，方法  \n",
    "    def run(self):\n",
    "        print('{}在院子里跑来跑去！'.format(self.name))\n",
    "     \n",
    "    @classmethod       # 类方法\n",
    "    def test(cls):    #cls  class类\n",
    "        print(cls)  #  <class '__main__.Dog'>\n",
    "        print(cls.name)   #  出错\n",
    "        \n",
    "\n",
    "#  创建对象\n",
    "d = Dog('大黄')\n",
    "\n",
    "# 通过对象调用方法\n",
    "d.run()\n",
    "d.test()"
   ]
  },
  {
   "cell_type": "raw",
   "metadata": {},
   "source": [
    "类方法：\n",
    "\n",
    "特点：\n",
    "   1.定义需要依赖装饰器@classmethod\n",
    "   2.类方法中参数不是一个对象，而是类\n",
    "   print（cls）  #  <class '__main__.Dog'>\n",
    "   3.类方法只能使用类属性\n",
    "   4.类方法中不能使用普通方法\n",
    "   \n",
    "类方法的使用：\n",
    "   它只能访问类属性和类方法，因此可以在对象创建之前完成一些动作。\n",
    "   也就是可以在创建对象前，完成一些动作（功能）"
   ]
  },
  {
   "cell_type": "code",
   "execution_count": 3,
   "metadata": {},
   "outputs": [
    {
     "name": "stdout",
     "output_type": "stream",
     "text": [
      "---------\n",
      "<class '__main__.Dog'>\n",
      "大黄在院子里跑来跑去！\n",
      "---------\n",
      "<class '__main__.Dog'>\n"
     ]
    }
   ],
   "source": [
    "class Dog:    #类中方法的调用，需要通过self.方法名（）调用\n",
    "    \n",
    "    def __init__(self,name):   # 通过init初始化特征\n",
    "        self.name = name\n",
    "    \n",
    "     # 动作，方法  \n",
    "    def run(self):\n",
    "        print('{}在院子里跑来跑去！'.format(self.name))\n",
    "        \n",
    "    def cat(self):\n",
    "        print('吃饭.....')\n",
    "        self.run()     # 类方法的调用\n",
    "     \n",
    "    @classmethod       # 类方法\n",
    "    def test(cls):    #cls  class类\n",
    "        print('---------')\n",
    "        print(cls)  #  <class '__main__.Dog'>\n",
    "#        print(cls.name)   #  出错\n",
    "        \n",
    "\n",
    "Dog.test()    # 创建对象前完成动作，看执行的结果\n",
    "\n",
    "#  创建对象\n",
    "d = Dog('大黄')\n",
    "\n",
    "# 通过对象调用方法\n",
    "d.run()\n",
    "d.test()"
   ]
  },
  {
   "cell_type": "code",
   "execution_count": 4,
   "metadata": {},
   "outputs": [
    {
     "name": "stdout",
     "output_type": "stream",
     "text": [
      "---------类方法\n",
      "<class '__main__.Person'>\n",
      "修改后的年龄是： 20\n"
     ]
    }
   ],
   "source": [
    "class Person:      # 不调用对象，修改年龄\n",
    "    __age = 18\n",
    "        \n",
    "    def show(self):\n",
    "        print('----------',self.age)   # 参数也可以是 Person.age\n",
    "        \n",
    "    @classmethod       # 类方法\n",
    "    def test(cls):    #cls  class类\n",
    "        cls.__age = 20\n",
    "        print('---------类方法')\n",
    "        print(cls)  #  <class '__main__.Dog'>\n",
    "\n",
    "    @classmethod\n",
    "    def show_age(cls):\n",
    "        print('修改后的年龄是：',cls.__age)\n",
    "\n",
    "Person.test()\n",
    "Person.show_age()"
   ]
  },
  {
   "cell_type": "markdown",
   "metadata": {},
   "source": [
    "### 5.静态方法"
   ]
  },
  {
   "cell_type": "raw",
   "metadata": {},
   "source": [
    "静态方法：类似类方法\n",
    "   1.需要装饰器@staticmethod\n",
    "   2.静态方法是无需参数的（cls、self）\n",
    "   3.它只能访问类\n",
    "   4.加载时机同类方法\n",
    "   \n",
    "不同：\n",
    "   1.装饰器不同\n",
    "   2.类方法有参数的，静态方法没有参数\n",
    "   \n",
    "相同：\n",
    "   1.只能访问类的属性和方法，对象的属性和方法无法访问\n",
    "   2.都可以通过类名调用访问\n",
    "   3.都可以在创建对象之前使用，不依赖对象"
   ]
  },
  {
   "cell_type": "code",
   "execution_count": 6,
   "metadata": {},
   "outputs": [
    {
     "name": "stdout",
     "output_type": "stream",
     "text": [
      "---------类方法\n",
      "<class '__main__.Person'>\n",
      "修改后的年龄是： 20\n",
      "-------静态方法\n",
      "20\n"
     ]
    }
   ],
   "source": [
    "class Person:      # 不调用对象，修改年龄\n",
    "    __age = 18\n",
    "    \n",
    "    def __init__(self,name):\n",
    "        self.name = name\n",
    "        \n",
    "    def show(self):\n",
    "        print('----------',self.age)   # 参数也可以是 Person.age\n",
    "        \n",
    "    @classmethod       # 类方法\n",
    "    def update(cls):    #cls  class类\n",
    "        cls.__age = 20\n",
    "        print('---------类方法')\n",
    "        print(cls)  #  <class '__main__.Dog'>\n",
    "\n",
    "    @classmethod        \n",
    "    def show_age(cls):\n",
    "        print('修改后的年龄是：',cls.__age)\n",
    "        \n",
    "    @staticmethod            # 静态方法，无需参数\n",
    "    def test():\n",
    "        print('-------静态方法')\n",
    "        print(Person.__age)\n",
    "\n",
    "Person.update()\n",
    "Person.show_age()\n",
    "Person.test()"
   ]
  },
  {
   "cell_type": "markdown",
   "metadata": {},
   "source": [
    "### 6.魔术方法"
   ]
  },
  {
   "cell_type": "raw",
   "metadata": {},
   "source": [
    "可以参考https://www.cnblogs.com/zhangboblogs/p/7860929.html\n",
    " 1.__init__:初始化魔术方法\n",
    " 2.__new__ :实例化魔术方法\n",
    " 3.__call__:对象调用模式方法\n",
    " 4.__del__ :析构魔术方法\n",
    " 5.__str__ :打印对象名"
   ]
  },
  {
   "cell_type": "code",
   "execution_count": 7,
   "metadata": {},
   "outputs": [
    {
     "name": "stdout",
     "output_type": "stream",
     "text": [
      "------>new\n",
      "None\n"
     ]
    }
   ],
   "source": [
    "class Person:      # 定义类\n",
    "\n",
    "# 触发时机：初始化对象时触发（不是实例化触发，但是和实例化在一个操作中）\n",
    "# 参数：至少有一个self，接收对象\n",
    "# 返回值：无 \n",
    "    def __init__(self,name):   # 初始化魔术方法\n",
    "        self.name = name\n",
    "        \n",
    "    def __new__(cls,*args, **kwargs):\n",
    "        print('------>new')\n",
    "        \n",
    "p = Person('jack')\n",
    "print(p)              # p指向空指针"
   ]
  },
  {
   "cell_type": "code",
   "execution_count": 1,
   "metadata": {},
   "outputs": [
    {
     "name": "stdout",
     "output_type": "stream",
     "text": [
      "------>new\n",
      "----->init\n"
     ]
    }
   ],
   "source": [
    "class Person:      # 定义类\n",
    "\n",
    "    def __init__(self):   # 初始化魔术方法\n",
    "        print('----->init')\n",
    "        # self.name = name\n",
    "        \n",
    "    def __new__(cls,*args,**kwargs):\n",
    "        print('------>new')\n",
    "        return super(Person,cls).__new__(cls,*args,**kwargs)\n",
    "        \n",
    "p = Person()"
   ]
  },
  {
   "cell_type": "code",
   "execution_count": 1,
   "metadata": {},
   "outputs": [
    {
     "name": "stdout",
     "output_type": "stream",
     "text": [
      "new...\n",
      "init...\n",
      "<__main__.Person object at 0x0000019D90081940>\n"
     ]
    }
   ],
   "source": [
    "class Person():\n",
    "\n",
    "    # 初始化\n",
    "    def __init__(self):\n",
    "        print('init...')\n",
    "\n",
    "    # 实例化方法（构造方法）---》创建对象\n",
    "    def __new__(cls, *args, **kwargs):\n",
    "        print('new...')\n",
    "        # 调用父类的__new__()方法创建对象，并用接收返回值\n",
    "        ret = object.__new__(cls)     # 这里用object也可以的\n",
    "        # 将对象返回给person\n",
    "        return ret\n",
    "\n",
    "\n",
    "p = Person()\n",
    "print(p)"
   ]
  },
  {
   "cell_type": "raw",
   "metadata": {},
   "source": [
    "上述程序的执行过程：\n",
    "   1.定义类class，在内存开空间\n",
    "   2.创建对象p，执行__new__  新开了内存空间\n",
    "   3.返回new新开内存地址--》init--》self\n",
    "   4.执行初始化init"
   ]
  },
  {
   "cell_type": "code",
   "execution_count": 3,
   "metadata": {},
   "outputs": [
    {
     "name": "stdout",
     "output_type": "stream",
     "text": [
      "------>new\n",
      "<__main__.Person object at 0x0000019D9129FC70>\n",
      "----->init\n",
      "an\n"
     ]
    }
   ],
   "source": [
    "class Person:      # 定义类\n",
    "\n",
    "    def __init__(self,name):   # 初始化魔术方法\n",
    "        print('----->init')\n",
    "        self.name = name\n",
    "        \n",
    "    def __new__(cls,*args,**kwargs):\n",
    "        print('------>new')\n",
    "        adrr = super(Person,cls).__new__(cls)\n",
    "     #  adrr = object.__new__(cls)   这样写也可以的\n",
    "        print(adrr)\n",
    "        return adrr\n",
    "        \n",
    "p = Person('an')\n",
    "print(p.name)"
   ]
  },
  {
   "cell_type": "markdown",
   "metadata": {},
   "source": [
    "### 7.其他的魔术方法"
   ]
  },
  {
   "cell_type": "code",
   "execution_count": 10,
   "metadata": {},
   "outputs": [
    {
     "name": "stdout",
     "output_type": "stream",
     "text": [
      "------>new\n",
      "<__main__.Person object at 0x0000019D9129F490>\n",
      "----->init\n",
      "an\n",
      "-------call\n",
      "执行对象得到的参数是： hello\n"
     ]
    }
   ],
   "source": [
    "class Person:      # 定义类\n",
    "\n",
    "    def __init__(self,name):   # 初始化魔术方法\n",
    "        print('----->init')\n",
    "        self.name = name\n",
    "        \n",
    "    def __new__(cls,*args,**kwargs):\n",
    "        print('------>new')\n",
    "        adrr = super(Person,cls).__new__(cls)\n",
    "     #  adrr = object.__new__(cls)   这样写也可以的\n",
    "        print(adrr)\n",
    "        return adrr\n",
    "    \n",
    "    def __call__(self,name):     # 当想把对象当函数使用，就要重写call函数\n",
    "        print('-------call')\n",
    "        print('执行对象得到的参数是：',name)\n",
    "        \n",
    "p = Person('an')\n",
    "print(p.name)\n",
    "p('hello')    # 对象当初函数使用"
   ]
  },
  {
   "cell_type": "code",
   "execution_count": 15,
   "metadata": {},
   "outputs": [
    {
     "name": "stdout",
     "output_type": "stream",
     "text": [
      "----->init\n",
      "jack\n",
      "jack\n"
     ]
    }
   ],
   "source": [
    "class Person:      # 定义类\n",
    "\n",
    "    def __init__(self,name):   # 初始化魔术方法\n",
    "        print('----->init')\n",
    "        self.name = name\n",
    "        \n",
    "p = Person('jack')\n",
    "p1 = p\n",
    "print(p1.name)\n",
    "p2 = p\n",
    "print(p2.name)     # 第三次引用，可以通过下面例子看怎样引用"
   ]
  },
  {
   "cell_type": "code",
   "execution_count": 2,
   "metadata": {},
   "outputs": [
    {
     "name": "stdout",
     "output_type": "stream",
     "text": [
      "----->init\n",
      "jack\n",
      "jack\n",
      "4\n"
     ]
    }
   ],
   "source": [
    "import sys\n",
    "\n",
    "class Person:      # 定义类\n",
    "\n",
    "    def __init__(self,name):   # 初始化魔术方法\n",
    "        print('----->init')\n",
    "        self.name = name\n",
    "        \n",
    "p = Person('jack')\n",
    "p1 = p\n",
    "print(p1.name)\n",
    "p2 = p\n",
    "print(p2.name)     # 第三次引用，可以通过下面例子看怎样引用\n",
    "\n",
    "print(sys.getrefcount(p))   # 可以看到，包括这次共4次引用"
   ]
  },
  {
   "cell_type": "code",
   "execution_count": 3,
   "metadata": {},
   "outputs": [
    {
     "name": "stdout",
     "output_type": "stream",
     "text": [
      "----->init\n",
      "jack\n",
      "jack\n",
      "tom\n"
     ]
    }
   ],
   "source": [
    "import sys\n",
    "\n",
    "class Person:      # 定义类\n",
    "\n",
    "    def __init__(self,name):   # 初始化魔术方法\n",
    "        print('----->init')\n",
    "        self.name = name\n",
    "        \n",
    "p = Person('jack')\n",
    "p1 = p\n",
    "print(p1.name)\n",
    "p2 = p\n",
    "print(p2.name)     # p、p1、p2指同一地址\n",
    "p1.name = 'tom'\n",
    "print(p.name)"
   ]
  },
  {
   "cell_type": "code",
   "execution_count": 4,
   "metadata": {},
   "outputs": [
    {
     "name": "stdout",
     "output_type": "stream",
     "text": [
      "----->init\n",
      "jack\n",
      "jack\n",
      "tom\n",
      "删除p2后打印： tom\n",
      "删除p1后打印： tom\n"
     ]
    }
   ],
   "source": [
    "class Person:      # 定义类\n",
    "\n",
    "    def __init__(self,name):   # 初始化魔术方法\n",
    "        print('----->init')\n",
    "        self.name = name\n",
    "     \n",
    "    def __del__(self):\n",
    "        print('-----del')\n",
    "        \n",
    "p = Person('jack')\n",
    "p1 = p\n",
    "print(p1.name)\n",
    "p2 = p\n",
    "print(p2.name)     # p、p1、p2指同一地址\n",
    "p1.name = 'tom'\n",
    "print(p.name)\n",
    "\n",
    "del p2\n",
    "print('删除p2后打印：',p.name)\n",
    "\n",
    "del p1\n",
    "print('删除p1后打印：',p.name)"
   ]
  },
  {
   "cell_type": "raw",
   "metadata": {},
   "source": [
    "__del__()    #定义自己不用轻易定义使用del方法\n",
    "  1.对象赋值\n",
    "    p  = Person（）\n",
    "    p1 = p\n",
    "   说明：p和p1共同指向同一个地址\n",
    "  2.删除地址的引用\n",
    "    del p1\n",
    "  3.查看地址引用次数\n",
    "   import sys\n",
    "   sys.getrefcount()\n",
    "  4.当一块内存空间没有任何引用时，系统默认执行  del 回收内存\n",
    "    ref = 0"
   ]
  }
 ],
 "metadata": {
  "kernelspec": {
   "display_name": "Python 3",
   "language": "python",
   "name": "python3"
  },
  "language_info": {
   "codemirror_mode": {
    "name": "ipython",
    "version": 3
   },
   "file_extension": ".py",
   "mimetype": "text/x-python",
   "name": "python",
   "nbconvert_exporter": "python",
   "pygments_lexer": "ipython3",
   "version": "3.8.3"
  }
 },
 "nbformat": 4,
 "nbformat_minor": 4
}
