{
 "cells": [
  {
   "cell_type": "markdown",
   "metadata": {},
   "source": [
    "## 四、装饰器\n",
    "### 特点：\n",
    "#### 1.函数A是作为参数出现的（函数B就接收函数A作为参数）\n",
    "#### 2.要有闭包的特点"
   ]
  },
  {
   "cell_type": "code",
   "execution_count": 1,
   "metadata": {},
   "outputs": [
    {
     "data": {
      "text/plain": [
       "<function __main__.test()>"
      ]
     },
     "execution_count": 1,
     "metadata": {},
     "output_type": "execute_result"
    }
   ],
   "source": [
    "def test():\n",
    "    print('-----test-------')\n",
    "    \n",
    "t = test\n",
    "t       # print(t),输出test函数的地址"
   ]
  },
  {
   "cell_type": "code",
   "execution_count": 2,
   "metadata": {},
   "outputs": [
    {
     "name": "stdout",
     "output_type": "stream",
     "text": [
      "-----test-------\n"
     ]
    }
   ],
   "source": [
    "def test():\n",
    "    print('-----test-------')\n",
    "    \n",
    "t = test\n",
    "t()           #相当于test（），调用test（）"
   ]
  },
  {
   "cell_type": "code",
   "execution_count": 3,
   "metadata": {},
   "outputs": [
    {
     "name": "stdout",
     "output_type": "stream",
     "text": [
      "<function test at 0x0000024022985318>\n",
      "-----test-------\n",
      "-------->func\n"
     ]
    }
   ],
   "source": [
    "def func(f):      # f = test\n",
    "    print(f)      # <function test at 0x00000169BB366558>\n",
    "    f()           # --------test----\n",
    "    print('-------->func')  # ---->func\n",
    "    \n",
    "# 调用函数\n",
    "func(test)"
   ]
  },
  {
   "cell_type": "code",
   "execution_count": 4,
   "metadata": {},
   "outputs": [
    {
     "name": "stdout",
     "output_type": "stream",
     "text": [
      "我是毛坯房....\n",
      "----->刷漆\n",
      "----->铺地板\n",
      "----->装门和洁具\n"
     ]
    }
   ],
   "source": [
    "# 定义一个装饰器\n",
    "def decorate(func):\n",
    "    a = 100   # 定义局部变量\n",
    "    \n",
    "    def wrapper():    #  定义内部函数作为装饰函数\n",
    "        func()\n",
    "        print('----->刷漆')\n",
    "        print('----->铺地板')\n",
    "        print('----->装门和洁具')\n",
    "       \n",
    "    return wrapper\n",
    "\n",
    "# 使用装饰器   @\n",
    "@decorate        # 相当于执行 house=decorate(house)\n",
    "def house():\n",
    "    print('我是毛坯房....')\n",
    "\n",
    "# 调用函数\n",
    "house()"
   ]
  },
  {
   "cell_type": "raw",
   "metadata": {},
   "source": [
    "不使用装饰器需要\n",
    "1、修改原函数\n",
    "2、重新定义函数，包含原函数再加上新的代码\n",
    "\n",
    "这样需要：\n",
    "1.修改原函数导致所有调用都修改了；\n",
    "2.重新定义函数，在代码中修改原来函数名"
   ]
  },
  {
   "cell_type": "code",
   "execution_count": 11,
   "metadata": {},
   "outputs": [
    {
     "name": "stdout",
     "output_type": "stream",
     "text": [
      "wrapper前打印\n",
      "wrapper加载完成\n",
      "<function decorate.<locals>.wrapper at 0x00000240229A6678>\n"
     ]
    }
   ],
   "source": [
    "# 定义一个装饰器\n",
    "def decorate(func):\n",
    "    a = 100   # 定义局部变量\n",
    "    print('wrapper前打印')\n",
    "    \n",
    "    def wrapper():    #  定义内部函数作为装饰函数\n",
    "        func()\n",
    "        print('----->刷漆')\n",
    "        print('----->铺地板')\n",
    "        print('----->装门和洁具')\n",
    "        \n",
    "    print('wrapper加载完成')  \n",
    "    \n",
    "    return wrapper               # 这里返回wrapper，给house\n",
    "\n",
    "# 使用装饰器   @\n",
    "'''\n",
    "1.house()是装饰函数\n",
    "2.将被装饰函数作为参数传递给装饰器decorate\n",
    "3.执行装饰器函数decorate\n",
    "4.将返回值又赋值给house\n",
    "'''\n",
    "\n",
    "@decorate                              # 就是将house->decorate(house)\n",
    "def house():                       \n",
    "    print('我是毛坯房....')\n",
    "   \n",
    "print(house)            #  注意：这里没有调用，但是有@，执行@后把下面house作为参数\n",
    "                        # 传递给decorate去执行，同时返回值送个house"
   ]
  },
  {
   "cell_type": "code",
   "execution_count": 12,
   "metadata": {},
   "outputs": [
    {
     "name": "stdout",
     "output_type": "stream",
     "text": [
      "wrapper前打印\n",
      "wrapper加载完成\n",
      "<function decorate.<locals>.wrapper at 0x00000240229A63A8>\n",
      "我是毛坯房....\n",
      "----->刷漆\n",
      "----->铺地板\n",
      "----->装门和洁具\n"
     ]
    }
   ],
   "source": [
    "# 定义一个装饰器\n",
    "def decorate(func):\n",
    "    a = 100   # 定义局部变量\n",
    "    print('wrapper前打印')\n",
    "    \n",
    "    def wrapper():    #  定义内部函数作为装饰函数\n",
    "        func()\n",
    "        print('----->刷漆')\n",
    "        print('----->铺地板')\n",
    "        print('----->装门和洁具')\n",
    "        \n",
    "    print('wrapper加载完成')  \n",
    "    \n",
    "    return wrapper               # 这里返回wrapper，给house\n",
    "\n",
    "# 使用装饰器   @\n",
    "'''\n",
    "1.house()是装饰函数\n",
    "2.将被装饰函数作为参数传递给装饰器decorate\n",
    "3.执行装饰器函数decorate\n",
    "4.将返回值又赋值给house\n",
    "'''\n",
    "\n",
    "@decorate                              # 就是将house->decorate(house)\n",
    "def house():                       \n",
    "    print('我是毛坯房....')\n",
    "   \n",
    "print(house)            #  注意：这里没有调用，但是有@，执行@后把下面house作为参数\n",
    "                        # 传递给decorate去执行，同时返回值送个house\n",
    "house()                 # 这里调用house就是wrapper函数做的事"
   ]
  },
  {
   "cell_type": "code",
   "execution_count": 15,
   "metadata": {},
   "outputs": [
    {
     "name": "stdout",
     "output_type": "stream",
     "text": [
      "正在校验....\n",
      "校验完成....\n",
      "....f1....\n",
      "正在校验....\n",
      "校验完成....\n",
      ".....f2....\n"
     ]
    }
   ],
   "source": [
    "# 登录校验\n",
    "import time\n",
    "\n",
    "def decorate(func):\n",
    "    \n",
    "    def wrapper():    #  定义内部函数作为装饰函数\n",
    "        print('正在校验....')\n",
    "        time.sleep(2)\n",
    "        print('校验完成....')\n",
    "        func() \n",
    "    \n",
    "    return wrapper               # 这里返回wrapper，给f\n",
    "\n",
    "@decorate                         # 就是将house->decorate(f)\n",
    "def f1():                       \n",
    "    print('....f1....')\n",
    "    \n",
    "@decorate   \n",
    "def f2():\n",
    "    print('.....f2....')\n",
    "    \n",
    "f1()                 # 这里调用f1就是wrapper函数做的事\n",
    "f2()"
   ]
  },
  {
   "cell_type": "markdown",
   "metadata": {},
   "source": [
    "### 3. f1和f2带参数"
   ]
  },
  {
   "cell_type": "code",
   "execution_count": 1,
   "metadata": {},
   "outputs": [
    {
     "name": "stdout",
     "output_type": "stream",
     "text": [
      "正在校验....\n",
      "....f1.... 5\n",
      "校验完成....\n",
      "正在校验....\n",
      ".....f2.... lily\n",
      "校验完成....\n",
      "正在校验....\n",
      "lily\n",
      "yale\n",
      "hale\n",
      "校验完成....\n"
     ]
    }
   ],
   "source": [
    "# 登录校验\n",
    "import time\n",
    "\n",
    "def decorate(func):\n",
    "    \n",
    "    def wrapper(x):    #  定义内部函数作为装饰函数\n",
    "        print('正在校验....')\n",
    "        time.sleep(1)\n",
    "        func(x)          # func(x)这里可能事f1、f2、f3.。。\n",
    "        print('校验完成....')\n",
    "   \n",
    "    return wrapper               # 这里返回wrapper，给f\n",
    "\n",
    "@decorate                         # 就是将house->decorate(f)\n",
    "def f1(n):            # 整型参数                      \n",
    "    print('....f1....',n)\n",
    "\n",
    "f1(5)     # 这里调用f1就是wrapper函数,因为f1（n）有参数，因此wrapper也需要加参数x\n",
    "\n",
    "@decorate   \n",
    "def f2(name):       # 字符参数\n",
    "    print('.....f2....',name)\n",
    "                \n",
    "f2('lily')\n",
    "\n",
    "@decorate\n",
    "def f3(students):     # 列表参数\n",
    "    for stu in students:\n",
    "        print(stu)\n",
    "\n",
    "students = ['lily','yale','hale']\n",
    "f3(students)"
   ]
  },
  {
   "cell_type": "markdown",
   "metadata": {},
   "source": [
    "### 4.带不定参数"
   ]
  },
  {
   "cell_type": "code",
   "execution_count": 2,
   "metadata": {},
   "outputs": [
    {
     "name": "stdout",
     "output_type": "stream",
     "text": [
      "正在校验....\n",
      "....f1.... 5\n",
      "校验完成....\n",
      "正在校验....\n",
      ".....f2.... lily 10\n",
      "校验完成....\n",
      "正在校验....\n",
      "lily\n",
      "yale\n",
      "hale\n",
      "校验完成....\n"
     ]
    }
   ],
   "source": [
    "import time\n",
    "\n",
    "def decorate(func):\n",
    "    \n",
    "    def wrapper(*args):    #  *args 表示参数是不定数，0，1，2，3.。\n",
    "        print('正在校验....')\n",
    "        time.sleep(1)\n",
    "        func(*args)          # func(x)这里可能事f1、f2、f3.。。\n",
    "        print('校验完成....')\n",
    "   \n",
    "    return wrapper               # 这里返回wrapper，给f\n",
    "\n",
    "@decorate                         # 就是将house->decorate(f)\n",
    "def f1(n):            # 整型参数                      \n",
    "    print('....f1....',n)\n",
    "\n",
    "f1(5)     # 这里调用f1就是wrapper函数,因为f1（n）有参数，因此wrapper也需要加参数x\n",
    "\n",
    "@decorate   \n",
    "def f2(name,age):       # 字符参数\n",
    "    print('.....f2....',name,age)\n",
    "                \n",
    "f2('lily',10)\n",
    "\n",
    "@decorate\n",
    "def f3(students):     # 列表参数\n",
    "    for stu in students:\n",
    "        print(stu)\n",
    "\n",
    "students = ['lily','yale','hale']\n",
    "f3(students)"
   ]
  },
  {
   "cell_type": "markdown",
   "metadata": {},
   "source": [
    "### 5.带不定数参数和关键参数"
   ]
  },
  {
   "cell_type": "code",
   "execution_count": 9,
   "metadata": {},
   "outputs": [
    {
     "name": "stdout",
     "output_type": "stream",
     "text": [
      "正在校验....\n",
      "....f1.... 5\n",
      "校验完成....\n",
      "正在校验....\n",
      ".....f2.... lily 10\n",
      "校验完成....\n",
      "正在校验....\n",
      "电子1931班级的学生名单如下：\n",
      "lily\n",
      "yale\n",
      "hale\n",
      "校验完成....\n"
     ]
    }
   ],
   "source": [
    "import time\n",
    "\n",
    "def decorate(func):\n",
    "    \n",
    "    def wrapper(*args,**kwargs):    #  **kwargs 表示关键参数是1、2、3等都可以\n",
    "        print('正在校验....')\n",
    "        time.sleep(1)\n",
    "        func(*args,**kwargs)          # func(x)这里可能事f1、f2、f3.。。\n",
    "        print('校验完成....')\n",
    "   \n",
    "    return wrapper               # 这里返回wrapper，给f\n",
    "\n",
    "@decorate                         # 就是将house->decorate(f)\n",
    "def f1(n):            # 整型参数                      \n",
    "    print('....f1....',n)\n",
    "\n",
    "f1(5)     # 这里调用f1就是wrapper函数,因为f1（n）有参数，因此wrapper也需要加参数x\n",
    "\n",
    "@decorate   \n",
    "def f2(name,age):       # 字符参数\n",
    "    print('.....f2....',name,age)\n",
    "                \n",
    "f2('lily',10)\n",
    "\n",
    "@decorate\n",
    "def f3(students,clazz = '电子1631'):     # 关键参数clazz，如果不传clazz就用默认值\n",
    "    print('{}班级的学生名单如下：'.format(clazz))\n",
    "    for stu in students:\n",
    "        print(stu)\n",
    "\n",
    "students = ['lily','yale','hale']\n",
    "f3(students,clazz = '电子1931') # 实参clazz=电子1631传进去是字典：class：电子1631"
   ]
  },
  {
   "cell_type": "raw",
   "metadata": {},
   "source": [
    "以后代码中的装饰器都定义成：\n",
    "def wrapper(*args,**kwargs):    不定数参数+不定关键参数"
   ]
  },
  {
   "cell_type": "markdown",
   "metadata": {},
   "source": [
    "### 6.多层装饰器\n",
    "####  如果装饰器是多层的，那么举例装饰函数最近的那个先执行"
   ]
  },
  {
   "cell_type": "code",
   "execution_count": 11,
   "metadata": {},
   "outputs": [
    {
     "name": "stdout",
     "output_type": "stream",
     "text": [
      "-------> 1 start\n",
      "------> 1 end\n",
      "-----> 2 start\n",
      "-----> 2 end\n",
      "我是毛坯房....\n",
      "----->刷漆\n",
      "----->铺地板\n",
      "----->装门和洁具\n"
     ]
    }
   ],
   "source": [
    "# 定义多个装饰器\n",
    "def decorate1(func):\n",
    "    print('-------> 1 start')\n",
    "    \n",
    "    def wrapper(*args,**kwargs):\n",
    "        func()\n",
    "        print('----->刷漆')\n",
    "        \n",
    "    print('------> 1 end')\n",
    "    \n",
    "    return wrapper\n",
    "\n",
    "def decorate2(func):\n",
    "    print('-----> 2 start')\n",
    "    \n",
    "    def wrapper(*args,**kwargs):\n",
    "        func()\n",
    "        print('----->铺地板')\n",
    "        print('----->装门和洁具')\n",
    "    print('-----> 2 end')\n",
    "       \n",
    "    return wrapper\n",
    "\n",
    "# 使用装饰器@\n",
    "@decorate2\n",
    "@decorate1\n",
    "def house():\n",
    "    print('我是毛坯房....')\n",
    "    \n",
    "'''\n",
    "执行过程：1、house--->func(decorate1)\n",
    "             -------> 1 start\n",
    "             加载wrapper1，放内存中\n",
    "             ------> 1 end\n",
    "             house=wrapper1\n",
    "          2、(house=wrapper1)----->func(decorate2)\n",
    "             -----> 2 start\n",
    "             加载wrapper2，放内存中\n",
    "             -----> 2 end\n",
    "             house=(house=wrapper1)=wrapper2\n",
    "           3、调用house（）\n",
    "             进入第2次wrapper2中，执行func（）\n",
    "             func———》wrapper1，执行func（）\n",
    "             我是毛坯房....\n",
    "             ----->刷漆\n",
    "             ----->铺地板\n",
    "             ----->装门和洁具\n",
    "'''\n",
    "# 调用函数\n",
    "house()"
   ]
  },
  {
   "cell_type": "markdown",
   "metadata": {},
   "source": [
    "### 6.带参数的装饰器"
   ]
  },
  {
   "cell_type": "code",
   "execution_count": 13,
   "metadata": {},
   "outputs": [
    {
     "name": "stdout",
     "output_type": "stream",
     "text": [
      "我是毛坯房，准备6-15开始铺地砖\n",
      "--铺地砖10块\n",
      "石门路\n",
      "--铺地砖100块\n"
     ]
    }
   ],
   "source": [
    "'''\n",
    "装饰器带参数，那就变成3层函数形式:最外层负责接收参数，内层还是原来的装饰器\n",
    "'''\n",
    "def outer(a):               # 第一层\n",
    "    def decorate(func):       # 第二层            \n",
    "        def wrapper(*args,**kwargs):  # 第三层\n",
    "            func(*args)\n",
    "            print('--铺地砖{}块'.format(a))\n",
    "        return wrapper             # 第三层返出\n",
    "    return decorate        # 第三层返出\n",
    "\n",
    "@outer(10)        # 相当于执行 house=outer(10)(house)\n",
    "def house(time):\n",
    "    print('我是毛坯房，准备{}开始铺地砖'.format(time))\n",
    "\n",
    "@outer(100)       # 相当于执行 house=outer(100)(house)\n",
    "def street():\n",
    "    print('石门路')\n",
    "\n",
    "house('6-15')\n",
    "\n",
    "street()"
   ]
  },
  {
   "cell_type": "markdown",
   "metadata": {},
   "source": [
    "### 7.装饰器的应用--实战"
   ]
  },
  {
   "cell_type": "code",
   "execution_count": 14,
   "metadata": {},
   "outputs": [
    {
     "name": "stdout",
     "output_type": "stream",
     "text": [
      "正在付款，付款金额：1000元\n",
      "付款中....\n",
      "付款完成！\n"
     ]
    }
   ],
   "source": [
    "# 模拟应用程序付款\n",
    "import time\n",
    "\n",
    "def pay(money):\n",
    "    print('正在付款，付款金额：{}元'.format(money))\n",
    "    print('付款中....')\n",
    "    time.sleep(2)\n",
    "    print('付款完成！')\n",
    "\n",
    "pay(1000)"
   ]
  },
  {
   "cell_type": "code",
   "execution_count": 19,
   "metadata": {},
   "outputs": [
    {
     "name": "stdout",
     "output_type": "stream",
     "text": [
      "-------付款--------\n",
      "用户没有登录，不能付款\n",
      "请输入用户名：admin\n",
      "请输入密码：123456\n",
      "结果： True\n",
      "-------付款--------\n",
      "正在付款，付款金额：8000元\n",
      "付款中....\n",
      "付款完成！\n"
     ]
    }
   ],
   "source": [
    "# 这个付款过程，没有验证用户是否登录，没有登录跳转登录界面登录，用装饰器\n",
    "\n",
    "import time\n",
    "\n",
    "islogin = False\n",
    "\n",
    "# 定义登录函数\n",
    "def login():\n",
    "    username = input('请输入用户名：')\n",
    "    password = input('请输入密码：')\n",
    "    if username == 'admin' and password == '123456':\n",
    "        return True\n",
    "    else:\n",
    "        return False\n",
    "\n",
    "# 定义一个装饰器，进行付款验证\n",
    "def login_required(func):\n",
    "\n",
    "    def wrapper(*args,**kwargs):\n",
    "        global islogin             # 声明全局变量\n",
    "        print('-------付款--------')\n",
    "        # 验证用户是否登录\n",
    "        if islogin:\n",
    "            func(*args,**kwargs)\n",
    "        else:\n",
    "            # 跳转登录界面\n",
    "            print('用户没有登录，不能付款')\n",
    "            islogin = login()\n",
    "            print('结果：',islogin)\n",
    "    return wrapper\n",
    "\n",
    "@login_required         # 相当于执行 pay = login_requied(pay)\n",
    "def pay(money):\n",
    "    print('正在付款，付款金额：{}元'.format(money))\n",
    "    print('付款中....')\n",
    "    time.sleep(2)\n",
    "    print('付款完成！')\n",
    "\n",
    "pay(1000)    # 第一次付款输出结果：True\n",
    "\n",
    "pay(8000)    # 第二次付款成功"
   ]
  },
  {
   "cell_type": "code",
   "execution_count": 22,
   "metadata": {},
   "outputs": [
    {
     "name": "stdout",
     "output_type": "stream",
     "text": [
      "call now():\n",
      "2020-3-25\n"
     ]
    }
   ],
   "source": [
    "def log(func):\n",
    "    def wrapper(*args, **kw):\n",
    "        print('call %s():' % func.__name__)\n",
    "        return func(*args, **kw)\n",
    "    return wrapper\n",
    "\n",
    "@log\n",
    "def now():     # now = log(now)\n",
    "    print('2020-3-25')\n",
    "\n",
    "now()"
   ]
  },
  {
   "cell_type": "raw",
   "metadata": {},
   "source": [
    "执行过程：\n",
    "1、@log  把wrapper函数加载到内存\n",
    "2、调用now() 执行wrapper函数  'call %s():'\n",
    "3、func() 相当于执行now（）函数"
   ]
  }
 ],
 "metadata": {
  "kernelspec": {
   "display_name": "Python 3",
   "language": "python",
   "name": "python3"
  },
  "language_info": {
   "codemirror_mode": {
    "name": "ipython",
    "version": 3
   },
   "file_extension": ".py",
   "mimetype": "text/x-python",
   "name": "python",
   "nbconvert_exporter": "python",
   "pygments_lexer": "ipython3",
   "version": "3.8.3"
  }
 },
 "nbformat": 4,
 "nbformat_minor": 4
}
