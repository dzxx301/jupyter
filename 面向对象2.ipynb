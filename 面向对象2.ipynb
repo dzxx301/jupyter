{
 "cells": [
  {
   "cell_type": "markdown",
   "metadata": {},
   "source": [
    "### 8.str"
   ]
  },
  {
   "cell_type": "code",
   "execution_count": 1,
   "metadata": {},
   "outputs": [
    {
     "name": "stdout",
     "output_type": "stream",
     "text": [
      "----->init\n",
      "-----str\n",
      "tim\n"
     ]
    }
   ],
   "source": [
    "class Person:      # 定义类\n",
    "\n",
    "    def __init__(self,name):   # 初始化魔术方法\n",
    "        print('----->init')\n",
    "        self.name = name\n",
    "     \n",
    "    def __str__(self):\n",
    "        print('-----str')\n",
    "        return self.name\n",
    "        \n",
    "p = Person('tim')\n",
    "print(p)"
   ]
  },
  {
   "cell_type": "code",
   "execution_count": 2,
   "metadata": {},
   "outputs": [
    {
     "name": "stdout",
     "output_type": "stream",
     "text": [
      "----->init\n",
      "<__main__.Person object at 0x000001BDDB029DC0>\n"
     ]
    }
   ],
   "source": [
    "class Person:      # 定义类\n",
    "\n",
    "    def __init__(self,name):   # 初始化魔术方法\n",
    "        print('----->init')\n",
    "        self.name = name\n",
    "        \n",
    "p = Person('tim')\n",
    "print(p)"
   ]
  },
  {
   "cell_type": "raw",
   "metadata": {},
   "source": [
    "__str__ :出发时机，当打印对象名时，自动调用str定义的内容。\n",
    "      调用时，加返回值，return"
   ]
  },
  {
   "cell_type": "code",
   "execution_count": 4,
   "metadata": {},
   "outputs": [
    {
     "name": "stdout",
     "output_type": "stream",
     "text": [
      "----->init----\n",
      "-----str-----\n",
      "姓名：tim,年龄：18\n"
     ]
    }
   ],
   "source": [
    "class Person:      # 定义类\n",
    "\n",
    "    def __init__(self,name,age):   # 初始化魔术方法\n",
    "        print('----->init<----')\n",
    "        self.name = name\n",
    "        self.age  = age\n",
    "     \n",
    "    def __str__(self):\n",
    "        print('----->str<-----')\n",
    "        return '姓名：' + self.name + ',年龄：'+ str(self.age)\n",
    "         #  字符串拼接  年龄age转换成字符串形式\n",
    "        \n",
    "p = Person('tim',18)\n",
    "print(p)"
   ]
  },
  {
   "cell_type": "code",
   "execution_count": 6,
   "metadata": {},
   "outputs": [
    {
     "name": "stdout",
     "output_type": "stream",
     "text": [
      "----->init<----\n",
      "----->str<-----\n",
      "姓名：tim,年龄：18\n",
      "----->init<----\n",
      "----->str<-----\n",
      "姓名：jack,年龄：20\n"
     ]
    }
   ],
   "source": [
    "class Person:      # 定义类\n",
    "\n",
    "    def __init__(self,name,age):   # 初始化魔术方法\n",
    "        print('----->init<----')\n",
    "        self.name = name\n",
    "        self.age  = age\n",
    "     \n",
    "    def __str__(self):\n",
    "        print('----->str<-----')\n",
    "        return '姓名：' + self.name + ',年龄：'+ str(self.age)\n",
    "         #  字符串拼接  年龄age转换成字符串形式\n",
    "        \n",
    "p = Person('tim',18)\n",
    "print(p)\n",
    "\n",
    "p1 = Person('jack',20)\n",
    "print(p1)"
   ]
  },
  {
   "cell_type": "code",
   "execution_count": null,
   "metadata": {},
   "outputs": [],
   "source": []
  }
 ],
 "metadata": {
  "kernelspec": {
   "display_name": "Python 3",
   "language": "python",
   "name": "python3"
  },
  "language_info": {
   "codemirror_mode": {
    "name": "ipython",
    "version": 3
   },
   "file_extension": ".py",
   "mimetype": "text/x-python",
   "name": "python",
   "nbconvert_exporter": "python",
   "pygments_lexer": "ipython3",
   "version": "3.8.3"
  }
 },
 "nbformat": 4,
 "nbformat_minor": 4
}
